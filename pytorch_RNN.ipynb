{
  "nbformat": 4,
  "nbformat_minor": 0,
  "metadata": {
    "colab": {
      "name": "pytorch_RNN",
      "provenance": [],
      "collapsed_sections": [],
      "mount_file_id": "1ZKs8LDbytYNU_53BM4OSVoWs5IaM2TKX",
      "authorship_tag": "ABX9TyMd0j4TUCGxy2ZppDHJJmKq",
      "include_colab_link": true
    },
    "kernelspec": {
      "name": "python3",
      "display_name": "Python 3"
    },
    "language_info": {
      "name": "python"
    }
  },
  "cells": [
    {
      "cell_type": "markdown",
      "metadata": {
        "id": "view-in-github",
        "colab_type": "text"
      },
      "source": [
        "<a href=\"https://colab.research.google.com/github/kimheeseo/pytorch-RNN/blob/main/pytorch_RNN.ipynb\" target=\"_parent\"><img src=\"https://colab.research.google.com/assets/colab-badge.svg\" alt=\"Open In Colab\"/></a>"
      ]
    },
    {
      "cell_type": "code",
      "metadata": {
        "colab": {
          "base_uri": "https://localhost:8080/"
        },
        "id": "BSsa9rcvosWX",
        "outputId": "48a2b6d9-5ee5-4c58-b272-f2fae9511a9f"
      },
      "source": [
        "import numpy as np\n",
        "import pandas as pd\n",
        "from sklearn.preprocessing import MinMaxScaler\n",
        "\n",
        "import torch\n",
        "import torch.nn as nn\n",
        "import torch.optim as optim\n",
        "import matplotlib.pyplot as plt\n",
        "import seaborn as sns\n",
        "\n",
        "from google.colab import drive\n",
        "drive.mount('/content/gdrive')#구글드라이브에서 파일 열기"
      ],
      "execution_count": 350,
      "outputs": [
        {
          "output_type": "stream",
          "name": "stdout",
          "text": [
            "Mounted at /content/gdrive\n"
          ]
        }
      ]
    },
    {
      "cell_type": "markdown",
      "metadata": {
        "id": "5ACUsc8zFd8T"
      },
      "source": [
        "**데이터 셋 생성 및 전략**"
      ]
    },
    {
      "cell_type": "code",
      "metadata": {
        "colab": {
          "base_uri": "https://localhost:8080/",
          "height": 206
        },
        "id": "OgUNyrC7vojW",
        "outputId": "e14afa03-201e-459d-84a2-a7f3f626a24a"
      },
      "source": [
        "df = pd.read_csv('/content/gdrive/MyDrive/code/stock.CSV',encoding='utf8')\n",
        "df.head()#구글드라이브에 저장된 csv파일을 읽는다."
      ],
      "execution_count": 351,
      "outputs": [
        {
          "output_type": "execute_result",
          "data": {
            "text/html": [
              "<div>\n",
              "<style scoped>\n",
              "    .dataframe tbody tr th:only-of-type {\n",
              "        vertical-align: middle;\n",
              "    }\n",
              "\n",
              "    .dataframe tbody tr th {\n",
              "        vertical-align: top;\n",
              "    }\n",
              "\n",
              "    .dataframe thead th {\n",
              "        text-align: right;\n",
              "    }\n",
              "</style>\n",
              "<table border=\"1\" class=\"dataframe\">\n",
              "  <thead>\n",
              "    <tr style=\"text-align: right;\">\n",
              "      <th></th>\n",
              "      <th>date</th>\n",
              "      <th>start</th>\n",
              "      <th>high</th>\n",
              "      <th>low</th>\n",
              "      <th>close</th>\n",
              "      <th>volume</th>\n",
              "    </tr>\n",
              "  </thead>\n",
              "  <tbody>\n",
              "    <tr>\n",
              "      <th>0</th>\n",
              "      <td>2019-07-17</td>\n",
              "      <td>39.73</td>\n",
              "      <td>39.75</td>\n",
              "      <td>39.4900</td>\n",
              "      <td>39.49</td>\n",
              "      <td>830640</td>\n",
              "    </tr>\n",
              "    <tr>\n",
              "      <th>1</th>\n",
              "      <td>2019-07-18</td>\n",
              "      <td>39.40</td>\n",
              "      <td>39.62</td>\n",
              "      <td>39.2700</td>\n",
              "      <td>39.59</td>\n",
              "      <td>621177</td>\n",
              "    </tr>\n",
              "    <tr>\n",
              "      <th>2</th>\n",
              "      <td>2019-07-19</td>\n",
              "      <td>39.83</td>\n",
              "      <td>39.83</td>\n",
              "      <td>39.3100</td>\n",
              "      <td>39.34</td>\n",
              "      <td>1026378</td>\n",
              "    </tr>\n",
              "    <tr>\n",
              "      <th>3</th>\n",
              "      <td>2019-07-22</td>\n",
              "      <td>39.42</td>\n",
              "      <td>39.56</td>\n",
              "      <td>39.3468</td>\n",
              "      <td>39.47</td>\n",
              "      <td>525941</td>\n",
              "    </tr>\n",
              "    <tr>\n",
              "      <th>4</th>\n",
              "      <td>2019-07-23</td>\n",
              "      <td>39.65</td>\n",
              "      <td>39.68</td>\n",
              "      <td>39.4100</td>\n",
              "      <td>39.68</td>\n",
              "      <td>673236</td>\n",
              "    </tr>\n",
              "  </tbody>\n",
              "</table>\n",
              "</div>"
            ],
            "text/plain": [
              "         date  start   high      low  close   volume\n",
              "0  2019-07-17  39.73  39.75  39.4900  39.49   830640\n",
              "1  2019-07-18  39.40  39.62  39.2700  39.59   621177\n",
              "2  2019-07-19  39.83  39.83  39.3100  39.34  1026378\n",
              "3  2019-07-22  39.42  39.56  39.3468  39.47   525941\n",
              "4  2019-07-23  39.65  39.68  39.4100  39.68   673236"
            ]
          },
          "metadata": {},
          "execution_count": 351
        }
      ]
    },
    {
      "cell_type": "code",
      "metadata": {
        "colab": {
          "base_uri": "https://localhost:8080/",
          "height": 206
        },
        "id": "JroZ-Jt3WYZj",
        "outputId": "ef6e33ae-42a2-40fb-9563-c3b9da8ddb45"
      },
      "source": [
        "scaler = MinMaxScaler()\n",
        "df[['start','high','low','close','volume']] = scaler.fit_transform(df[['start','high','low','close','volume']])\n",
        "df.head()#시가인 start, 고가인 high, 저가인 low, 종가인 close, 거래량인 volue을 사용합니다.\n",
        "#그리고 MinMaxScaler()를 통해, 최대최소정규화를 통해, 값들이 위의 값과 달리 1보다 작은 소수점이 나왔습니다."
      ],
      "execution_count": 352,
      "outputs": [
        {
          "output_type": "execute_result",
          "data": {
            "text/html": [
              "<div>\n",
              "<style scoped>\n",
              "    .dataframe tbody tr th:only-of-type {\n",
              "        vertical-align: middle;\n",
              "    }\n",
              "\n",
              "    .dataframe tbody tr th {\n",
              "        vertical-align: top;\n",
              "    }\n",
              "\n",
              "    .dataframe thead th {\n",
              "        text-align: right;\n",
              "    }\n",
              "</style>\n",
              "<table border=\"1\" class=\"dataframe\">\n",
              "  <thead>\n",
              "    <tr style=\"text-align: right;\">\n",
              "      <th></th>\n",
              "      <th>date</th>\n",
              "      <th>start</th>\n",
              "      <th>high</th>\n",
              "      <th>low</th>\n",
              "      <th>close</th>\n",
              "      <th>volume</th>\n",
              "    </tr>\n",
              "  </thead>\n",
              "  <tbody>\n",
              "    <tr>\n",
              "      <th>0</th>\n",
              "      <td>2019-07-17</td>\n",
              "      <td>0.194733</td>\n",
              "      <td>0.186416</td>\n",
              "      <td>0.215947</td>\n",
              "      <td>0.198892</td>\n",
              "      <td>0.043649</td>\n",
              "    </tr>\n",
              "    <tr>\n",
              "      <th>1</th>\n",
              "      <td>2019-07-18</td>\n",
              "      <td>0.186760</td>\n",
              "      <td>0.183285</td>\n",
              "      <td>0.210726</td>\n",
              "      <td>0.201300</td>\n",
              "      <td>0.032642</td>\n",
              "    </tr>\n",
              "    <tr>\n",
              "      <th>2</th>\n",
              "      <td>2019-07-19</td>\n",
              "      <td>0.197149</td>\n",
              "      <td>0.188343</td>\n",
              "      <td>0.211675</td>\n",
              "      <td>0.195281</td>\n",
              "      <td>0.053935</td>\n",
              "    </tr>\n",
              "    <tr>\n",
              "      <th>3</th>\n",
              "      <td>2019-07-22</td>\n",
              "      <td>0.187243</td>\n",
              "      <td>0.181840</td>\n",
              "      <td>0.212549</td>\n",
              "      <td>0.198411</td>\n",
              "      <td>0.027638</td>\n",
              "    </tr>\n",
              "    <tr>\n",
              "      <th>4</th>\n",
              "      <td>2019-07-23</td>\n",
              "      <td>0.192800</td>\n",
              "      <td>0.184730</td>\n",
              "      <td>0.214048</td>\n",
              "      <td>0.203467</td>\n",
              "      <td>0.035378</td>\n",
              "    </tr>\n",
              "  </tbody>\n",
              "</table>\n",
              "</div>"
            ],
            "text/plain": [
              "         date     start      high       low     close    volume\n",
              "0  2019-07-17  0.194733  0.186416  0.215947  0.198892  0.043649\n",
              "1  2019-07-18  0.186760  0.183285  0.210726  0.201300  0.032642\n",
              "2  2019-07-19  0.197149  0.188343  0.211675  0.195281  0.053935\n",
              "3  2019-07-22  0.187243  0.181840  0.212549  0.198411  0.027638\n",
              "4  2019-07-23  0.192800  0.184730  0.214048  0.203467  0.035378"
            ]
          },
          "metadata": {},
          "execution_count": 352
        }
      ]
    },
    {
      "cell_type": "code",
      "metadata": {
        "colab": {
          "base_uri": "https://localhost:8080/"
        },
        "id": "IgVsOQIbWkRr",
        "outputId": "53510082-b7fb-4e58-aaab-e19b6b5c2e07"
      },
      "source": [
        "df.info()"
      ],
      "execution_count": 353,
      "outputs": [
        {
          "output_type": "stream",
          "name": "stdout",
          "text": [
            "<class 'pandas.core.frame.DataFrame'>\n",
            "RangeIndex: 600 entries, 0 to 599\n",
            "Data columns (total 6 columns):\n",
            " #   Column  Non-Null Count  Dtype  \n",
            "---  ------  --------------  -----  \n",
            " 0   date    600 non-null    object \n",
            " 1   start   600 non-null    float64\n",
            " 2   high    600 non-null    float64\n",
            " 3   low     600 non-null    float64\n",
            " 4   close   600 non-null    float64\n",
            " 5   volume  600 non-null    float64\n",
            "dtypes: float64(5), object(1)\n",
            "memory usage: 28.2+ KB\n"
          ]
        }
      ]
    },
    {
      "cell_type": "code",
      "metadata": {
        "colab": {
          "base_uri": "https://localhost:8080/"
        },
        "id": "vw_2OqIfWnuT",
        "outputId": "a49be53f-d5b4-40ce-b0c4-e21f7e87e2fb"
      },
      "source": [
        "device = torch.device('cuda:0' if torch.cuda.is_available() else 'cpu')\n",
        "print(f'{device} is available')#gpu 활성화를 위해서 사용하였습니다."
      ],
      "execution_count": 354,
      "outputs": [
        {
          "output_type": "stream",
          "name": "stdout",
          "text": [
            "cpu is available\n"
          ]
        }
      ]
    },
    {
      "cell_type": "code",
      "metadata": {
        "id": "ZTuEfrIBWpdr"
      },
      "source": [
        "X = df[['start','high','low','volume']].values\n",
        "y = df['close'].values"
      ],
      "execution_count": 355,
      "outputs": []
    },
    {
      "cell_type": "code",
      "metadata": {
        "id": "_DX-NHyvW4cq"
      },
      "source": [
        "def seq_data(x, y, sequence_length):\n",
        "  \n",
        "  x_seq = []\n",
        "  y_seq = []\n",
        "  for i in range(len(x) - sequence_length):\n",
        "    x_seq.append(x[i: i+sequence_length])\n",
        "    y_seq.append(y[i+sequence_length])\n",
        "\n",
        "  return torch.FloatTensor(x_seq).to(device), torch.FloatTensor(y_seq).to(device).view([-1, 1])"
      ],
      "execution_count": 356,
      "outputs": []
    },
    {
      "cell_type": "code",
      "metadata": {
        "colab": {
          "base_uri": "https://localhost:8080/"
        },
        "id": "piWButk9W7tR",
        "outputId": "05e63c21-d1aa-4b3e-bed3-a97701e46b7f"
      },
      "source": [
        "split = 200\n",
        "sequence_length = 5\n",
        "\n",
        "x_seq, y_seq = seq_data(X, y, sequence_length)\n",
        "#보통 train과 test를 2:8로 설정하는 등의 방법으로 진행하는 데, 해당코드에서는 split을 활용했습니다.\n",
        "#200을 기준으로 train과 test를 나눠서 구분하였고, sequence_length의 값은 5인데, 0~4까지의 값,\n",
        "#즉 1~5일차까지의 데이터를 통해, 6일차의 데이터를 구하는 것을 확인할 수 있습니다.\n",
        "x_train_seq = x_seq[:split]\n",
        "y_train_seq = y_seq[:split]\n",
        "x_test_seq = x_seq[split:]\n",
        "y_test_seq = y_seq[split:]\n",
        "print(x_train_seq.size(), y_train_seq.size())\n",
        "print(x_test_seq.size(), y_test_seq.size())"
      ],
      "execution_count": 357,
      "outputs": [
        {
          "output_type": "stream",
          "name": "stdout",
          "text": [
            "torch.Size([200, 5, 4]) torch.Size([200, 1])\n",
            "torch.Size([395, 5, 4]) torch.Size([395, 1])\n"
          ]
        }
      ]
    },
    {
      "cell_type": "code",
      "metadata": {
        "id": "NqeYP2zNW9F0"
      },
      "source": [
        "train = torch.utils.data.TensorDataset(x_train_seq, y_train_seq)\n",
        "test = torch.utils.data.TensorDataset(x_test_seq, y_test_seq)\n",
        "\n",
        "batch_size = 20#딥러닝을 할 때 shuffle을 해줘야 좋은 학습이 되는데, 시계열이니, shuffle값은 false로 진행하지 않습니다.\n",
        "train_loader = torch.utils.data.DataLoader(dataset=train, batch_size=batch_size, shuffle=False)\n",
        "test_loader = torch.utils.data.DataLoader(dataset=test, batch_size=batch_size, shuffle=False)"
      ],
      "execution_count": 358,
      "outputs": []
    },
    {
      "cell_type": "code",
      "metadata": {
        "id": "XXjSAR6yXBFU"
      },
      "source": [
        "input_size = x_seq.size(2)\n",
        "num_layers = 2\n",
        "hidden_size = 8"
      ],
      "execution_count": 359,
      "outputs": []
    },
    {
      "cell_type": "code",
      "metadata": {
        "id": "YM-B2sRUXDAW"
      },
      "source": [
        "class VanillaRNN(nn.Module):\n",
        "\n",
        "  def __init__(self, input_size, hidden_size, sequence_length, num_layers, device):\n",
        "    super(VanillaRNN, self).__init__()\n",
        "    self.device = device\n",
        "    self.hidden_size = hidden_size\n",
        "    self.num_layers = num_layers\n",
        "    self.rnn = nn.RNN(input_size, hidden_size, num_layers, batch_first=True)\n",
        "    self.fc = nn.Sequential(nn.Linear(hidden_size * sequence_length, 1), nn.Sigmoid())\n",
        "\n",
        "  def forward(self, x):\n",
        "    h0 = torch.zeros(self.num_layers, x.size()[0], self.hidden_size).to(self.device) # 초기 hidden state 설정하기.\n",
        "    out, _ = self.rnn(x, h0) # out: RNN의 마지막 레이어로부터 나온 output feature 를 반환한다. hn: hidden state를 반환한다.\n",
        "    out = out.reshape(out.shape[0], -1) # many to many 전략\n",
        "    out = self.fc(out)\n",
        "    return out\n",
        "model = VanillaRNN(input_size=input_size,\n",
        "                   hidden_size=hidden_size,\n",
        "                   sequence_length=sequence_length,\n",
        "                   num_layers=num_layers,\n",
        "                   device=device).to(device)"
      ],
      "execution_count": 360,
      "outputs": []
    },
    {
      "cell_type": "code",
      "metadata": {
        "id": "rB45JoZaXFAG"
      },
      "source": [
        "criterion = nn.MSELoss()\n",
        "\n",
        "lr = 1e-3 #학습률\n",
        "num_epochs = 500 #반복횟수 : epochs\n",
        "optimizer = optim.Adam(model.parameters(), lr=lr) #optimizer는 여러개 중 Adam 사용"
      ],
      "execution_count": 361,
      "outputs": []
    },
    {
      "cell_type": "code",
      "metadata": {
        "colab": {
          "base_uri": "https://localhost:8080/"
        },
        "id": "HkUCtw1qXGre",
        "outputId": "2a256723-b610-4cd9-e7d5-9c0007e4b040"
      },
      "source": [
        "loss_graph = [] # 그래프 그릴 목적인 loss.\n",
        "n = len(train_loader)\n",
        "\n",
        "for epoch in range(num_epochs):\n",
        "  running_loss = 0.0\n",
        "\n",
        "  for data in train_loader:\n",
        "\n",
        "    seq, target = data \n",
        "    out = model(seq)   \n",
        "    loss = criterion(out, target)#out과 target을 MSELoss로 구합니다.\n",
        "#이 둘의 값을 비교하여, 성능평가를 할 수 있습니다.\n",
        "    optimizer.zero_grad() #다음 아래코드는 train할 때 사용하는 공식화 된 구조\n",
        "    loss.backward() #loss 최소화 \n",
        "    optimizer.step() #가중치 업데이트\n",
        "    running_loss += loss.item() # 한 배치의 loss 더해주고,\n",
        "\n",
        "#running_loss/n을 하는 이유는 전체 중 오류가 몇퍼센트인지 구하기 위해서 사용.\n",
        "  loss_graph.append(running_loss / n) # 한 epoch에 모든 배치들에 대한 평균 loss 리스트에 담고,\n",
        "  if epoch % 50 == 0:\n",
        "    print('[epoch: %d] loss: %.4f'%(epoch, running_loss/n))"
      ],
      "execution_count": 362,
      "outputs": [
        {
          "output_type": "stream",
          "name": "stdout",
          "text": [
            "[epoch: 0] loss: 0.0625\n",
            "[epoch: 50] loss: 0.0017\n",
            "[epoch: 100] loss: 0.0007\n",
            "[epoch: 150] loss: 0.0007\n",
            "[epoch: 200] loss: 0.0006\n",
            "[epoch: 250] loss: 0.0006\n",
            "[epoch: 300] loss: 0.0005\n",
            "[epoch: 350] loss: 0.0005\n",
            "[epoch: 400] loss: 0.0004\n",
            "[epoch: 450] loss: 0.0004\n"
          ]
        }
      ]
    },
    {
      "cell_type": "code",
      "metadata": {
        "colab": {
          "base_uri": "https://localhost:8080/",
          "height": 320
        },
        "id": "bLnypJVCXIOF",
        "outputId": "200ea79d-7c0f-42cb-99f1-68df1fdac676"
      },
      "source": [
        "plt.figure(figsize=(10,5))\n",
        "plt.plot(loss_graph)\n",
        "plt.show()"
      ],
      "execution_count": 363,
      "outputs": [
        {
          "output_type": "display_data",
          "data": {
            "image/png": "[encoded data removed]",
            "text/plain": [
              "<Figure size 720x360 with 1 Axes>"
            ]
          },
          "metadata": {
            "needs_background": "light"
          }
        }
      ]
    },
    {
      "cell_type": "code",
      "metadata": {
        "colab": {
          "base_uri": "https://localhost:8080/",
          "height": 592
        },
        "id": "cIEkq1rrXLHs",
        "outputId": "73bab0b7-9ed1-4a08-d3dc-118ae7dbddb4"
      },
      "source": [
        "def plotting(train_loader, test_loader, actual):\n",
        "  with torch.no_grad():\n",
        "    train_pred = []\n",
        "    test_pred = []\n",
        "#plotting으로 그래프를 그립니다.\n",
        "    for data in train_loader:\n",
        "      seq, target = data\n",
        "      out = model(seq)\n",
        "      train_pred += out.cpu().numpy().tolist()\n",
        "\n",
        "    for data in test_loader:\n",
        "      seq, target = data\n",
        "      out = model(seq)\n",
        "      test_pred += out.cpu().numpy().tolist()\n",
        "      \n",
        "  total = train_pred + test_pred\n",
        "  plt.figure(figsize=(20,10))\n",
        "  plt.plot(np.ones(100)*len(train_pred), np.linspace(0,1,100), '--', linewidth=0.6)\n",
        "  plt.plot(actual, '--')\n",
        "  plt.plot(total, 'b', linewidth=0.6)\n",
        "#total은 \"train_pred+test_pred\"으로 되어 있는데, 이 값은 pred들의 값이기에,\n",
        "#예측값인 Prediction의 값들을 나타낸 값입니다.\n",
        "\n",
        "  plt.legend(['train boundary', 'actual', 'prediction'])\n",
        "  plt.show()\n",
        "#close인 결과값을 통해, 성능평가를 합니다.\n",
        "plotting(train_loader, test_loader, df['close'][sequence_length:])"
      ],
      "execution_count": 364,
      "outputs": [
        {
          "output_type": "display_data",
          "data": {
            "image/png": "[encoded data removed]",
            "text/plain": [
              "<Figure size 1440x720 with 1 Axes>"
            ]
          },
          "metadata": {
            "needs_background": "light"
          }
        }
      ]
    }
  ]
}