{
  "nbformat": 4,
  "nbformat_minor": 0,
  "metadata": {
    "colab": {
      "name": "Untitled2.ipynb",
      "provenance": [],
      "authorship_tag": "ABX9TyOs9SIfFRLE4oCinJpv9wK5",
      "include_colab_link": true
    },
    "kernelspec": {
      "name": "python3",
      "display_name": "Python 3"
    },
    "language_info": {
      "name": "python"
    }
  },
  "cells": [
    {
      "cell_type": "markdown",
      "metadata": {
        "id": "view-in-github",
        "colab_type": "text"
      },
      "source": [
        "<a href=\"https://colab.research.google.com/github/kimheeseo/pytorch-RNN/blob/main/pytorch_RNN.ipynb\" target=\"_parent\"><img src=\"https://colab.research.google.com/assets/colab-badge.svg\" alt=\"Open In Colab\"/></a>"
      ]
    },
    {
      "cell_type": "code",
      "metadata": {
        "colab": {
          "base_uri": "https://localhost:8080/"
        },
        "id": "BSsa9rcvosWX",
        "outputId": "e73e2a40-3735-40df-ef58-1c9d51e02a5a"
      },
      "source": [
        "import numpy as np\n",
        "import pandas as pd\n",
        "from sklearn.preprocessing import MinMaxScaler\n",
        "\n",
        "import torch\n",
        "import torch.nn as nn\n",
        "import torch.optim as optim\n",
        "import matplotlib.pyplot as plt\n",
        "\n",
        "from google.colab import drive\n",
        "drive.mount('/content/gdrive')"
      ],
      "execution_count": null,
      "outputs": [
        {
          "output_type": "stream",
          "name": "stdout",
          "text": [
            "Mounted at /content/gdrive\n"
          ]
        }
      ]
    },
    {
      "cell_type": "code",
      "metadata": {
        "colab": {
          "base_uri": "https://localhost:8080/",
          "height": 206
        },
        "id": "OgUNyrC7vojW",
        "outputId": "4d36d2fe-e890-4e90-c8b4-9778bdf39040"
      },
      "source": [
        "df=pd.read_csv('/content/gdrive/MyDrive/code/stock.CSV')\n",
        "df.head()"
      ],
      "execution_count": null,
      "outputs": [
        {
          "output_type": "execute_result",
          "data": {
            "text/html": [
              "<div>\n",
              "<style scoped>\n",
              "    .dataframe tbody tr th:only-of-type {\n",
              "        vertical-align: middle;\n",
              "    }\n",
              "\n",
              "    .dataframe tbody tr th {\n",
              "        vertical-align: top;\n",
              "    }\n",
              "\n",
              "    .dataframe thead th {\n",
              "        text-align: right;\n",
              "    }\n",
              "</style>\n",
              "<table border=\"1\" class=\"dataframe\">\n",
              "  <thead>\n",
              "    <tr style=\"text-align: right;\">\n",
              "      <th></th>\n",
              "      <th>open</th>\n",
              "      <th>high</th>\n",
              "      <th>low</th>\n",
              "      <th>close</th>\n",
              "      <th>volume</th>\n",
              "    </tr>\n",
              "  </thead>\n",
              "  <tbody>\n",
              "    <tr>\n",
              "      <th>0</th>\n",
              "      <td>71.34</td>\n",
              "      <td>72.160</td>\n",
              "      <td>71.28</td>\n",
              "      <td>71.93</td>\n",
              "      <td>2664108</td>\n",
              "    </tr>\n",
              "    <tr>\n",
              "      <th>1</th>\n",
              "      <td>71.38</td>\n",
              "      <td>71.780</td>\n",
              "      <td>70.35</td>\n",
              "      <td>70.61</td>\n",
              "      <td>2022931</td>\n",
              "    </tr>\n",
              "    <tr>\n",
              "      <th>2</th>\n",
              "      <td>71.40</td>\n",
              "      <td>72.080</td>\n",
              "      <td>71.01</td>\n",
              "      <td>72.06</td>\n",
              "      <td>2024588</td>\n",
              "    </tr>\n",
              "    <tr>\n",
              "      <th>3</th>\n",
              "      <td>71.81</td>\n",
              "      <td>72.145</td>\n",
              "      <td>71.01</td>\n",
              "      <td>71.78</td>\n",
              "      <td>2981547</td>\n",
              "    </tr>\n",
              "    <tr>\n",
              "      <th>4</th>\n",
              "      <td>73.06</td>\n",
              "      <td>73.530</td>\n",
              "      <td>71.98</td>\n",
              "      <td>72.02</td>\n",
              "      <td>1966107</td>\n",
              "    </tr>\n",
              "  </tbody>\n",
              "</table>\n",
              "</div>"
            ],
            "text/plain": [
              "    open    high    low  close   volume\n",
              "0  71.34  72.160  71.28  71.93  2664108\n",
              "1  71.38  71.780  70.35  70.61  2022931\n",
              "2  71.40  72.080  71.01  72.06  2024588\n",
              "3  71.81  72.145  71.01  71.78  2981547\n",
              "4  73.06  73.530  71.98  72.02  1966107"
            ]
          },
          "metadata": {},
          "execution_count": 7
        }
      ]
    },
    {
      "cell_type": "code",
      "metadata": {
        "id": "AJNu4GLQv03W"
      },
      "source": [
        "scaler=MinMaxScaler()#MinMaxScaler로 최대최소 정규화\n",
        "df=[['open','high','low','close','volume']]=scaler.ft_transform(df[['open','high','low','close','volume']])\n",
        "df.head()"
      ],
      "execution_count": null,
      "outputs": []
    }
  ]
}